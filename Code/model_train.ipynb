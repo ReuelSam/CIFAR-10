{
 "cells": [
  {
   "cell_type": "code",
   "execution_count": 1,
   "metadata": {},
   "outputs": [
    {
     "name": "stdout",
     "output_type": "stream",
     "text": [
      "Dataset loading Done\n"
     ]
    }
   ],
   "source": [
    "import tensorflow as tf\n",
    "from tensorflow.keras import datasets,layers, models\n",
    "import matplotlib.pyplot as plt\n",
    "import matplotlib.image as mpimg\n",
    "import numpy as np\n",
    "from tensorflow.keras.models import Sequential\n",
    "from tensorflow.keras.layers import Conv2D,MaxPool2D,Dense,Flatten,Dropout,Input, AveragePooling2D, Activation,Conv2D, MaxPooling2D, BatchNormalization,Concatenate\n",
    "from tensorflow.keras.callbacks import EarlyStopping, TensorBoard\n",
    "from tensorflow.keras import regularizers, optimizers\n",
    "from tensorflow.keras.preprocessing.image import ImageDataGenerator\n",
    "\n",
    "\n",
    "global train_images\n",
    "global train_labels\n",
    "global test_images\n",
    "global test_labels\n",
    "\n",
    "(train_images, train_labels), (test_images, test_labels) = datasets.cifar10.load_data()\n",
    "\n",
    "# Normalize pixel values to be between 0 and 1\n",
    "train_images, test_images = train_images / 255.0, test_images / 255.0\n",
    "\n",
    "class_names = ['airplane', 'automobile', 'bird', 'cat', 'deer',\n",
    "               'dog', 'frog', 'horse', 'ship', 'truck']\n",
    "\n",
    "print(\"Dataset loading Done\")\n",
    "\n",
    "class CNN():\n",
    "\n",
    "    def __init__(self):\n",
    "        pass\n",
    "    \n",
    "    def model_start(self):\n",
    "        self.model_create()\n",
    "        self.model_summary()\n",
    "        var = self.model_compile()\n",
    "        print(\"Model Creation Done\")\n",
    "        \n",
    "    def model_create(self):\n",
    "\n",
    "        self.model = Sequential()\n",
    "        self.model.add(Conv2D(32, (3, 3), activation='relu', kernel_initializer='he_uniform', padding='same', input_shape=(32, 32, 3)))\n",
    "        self.model.add(BatchNormalization())\n",
    "        self.model.add(Conv2D(32, (3, 3), activation='relu', kernel_initializer='he_uniform', padding='same'))\n",
    "        self.model.add(BatchNormalization())\n",
    "        self.model.add(MaxPool2D((2, 2)))\n",
    "        self.model.add(Dropout(0.2))\n",
    "        self.model.add(Conv2D(64, (3, 3), activation='relu', kernel_initializer='he_uniform', padding='same'))\n",
    "        self.model.add(BatchNormalization())\n",
    "        self.model.add(Conv2D(64, (3, 3), activation='relu', kernel_initializer='he_uniform', padding='same'))\n",
    "        self.model.add(BatchNormalization())\n",
    "        self.model.add(MaxPool2D((2, 2)))\n",
    "        self.model.add(Dropout(0.3))\n",
    "        self.model.add(Conv2D(128, (3, 3), activation='relu', kernel_initializer='he_uniform', padding='same'))\n",
    "        self.model.add(BatchNormalization())\n",
    "        self.model.add(Conv2D(128, (3, 3), activation='relu', kernel_initializer='he_uniform', padding='same'))\n",
    "        self.model.add(BatchNormalization())\n",
    "        self.model.add(MaxPool2D((2, 2)))\n",
    "        self.model.add(Dropout(0.4))\n",
    "        self.model.add(Flatten())\n",
    "        self.model.add(Dense(128, activation='relu', kernel_initializer='he_uniform'))\n",
    "        self.model.add(BatchNormalization())\n",
    "        self.model.add(Dropout(0.5))\n",
    "        self.model.add(Dense(10, activation='softmax'))\n",
    "\n",
    "    def model_summary(self):\n",
    "        self.model.summary()\n",
    "\n",
    "\n",
    "    def model_compile(self):\n",
    "        self.model.compile(optimizer='adam', loss = tf.keras.losses.SparseCategoricalCrossentropy(from_logits=True), metrics=['accuracy'])\n",
    "        return 0\n",
    "        \n",
    "    \n",
    "    def train(self):\n",
    "        global train_images\n",
    "        global train_labels\n",
    "        global test_images\n",
    "        global test_labels\n",
    "        self.history = self.model.fit(train_images, train_labels, epochs=50, validation_data=(test_images, test_labels))\n",
    "\n",
    "\n",
    "    def model_performance_graph(self):\n",
    "        plt.plot(self.history.history['accuracy'], label='accuracy')\n",
    "        plt.plot(self.history.history['val_accuracy'], label = 'val_accuracy')\n",
    "        plt.xlabel('Epoch')\n",
    "        plt.ylabel('Accuracy')\n",
    "        plt.ylim([0.5, 1])\n",
    "        plt.legend(loc='lower right')\n",
    "\n",
    "\n",
    "    def model_evaluate(self):\n",
    "        test_loss, test_acc = self.model.evaluate(test_images,  test_labels, verbose=2)\n",
    "\n",
    "        print(test_acc)\n",
    "        return test_acc\n",
    "\n",
    "\n",
    "    def predict_new(self, image_path):\n",
    "        img=mpimg.imread(image_path)\n",
    "        ret_class = class_names[self.model.predict(np.expand_dims(img,axis=0)).argmax()]\n",
    "        print(ret_class)\n",
    "        return ret_class\n",
    "    \n",
    "    def model_save(self):\n",
    "        self.model.save('model')\n",
    "        \n",
    "    def model_load(self):\n",
    "        self.model = tf.keras.models.load_model('model')"
   ]
  },
  {
   "cell_type": "code",
   "execution_count": 2,
   "metadata": {},
   "outputs": [],
   "source": [
    "model = CNN()"
   ]
  },
  {
   "cell_type": "code",
   "execution_count": 6,
   "metadata": {},
   "outputs": [
    {
     "name": "stdout",
     "output_type": "stream",
     "text": [
      "Train on 50000 samples, validate on 10000 samples\n",
      "Epoch 1/50\n",
      "50000/50000 [==============================] - 21s 416us/sample - loss: 2.0109 - accuracy: 0.4496 - val_loss: 1.9313 - val_accuracy: 0.5293\n",
      "Epoch 2/50\n",
      "50000/50000 [==============================] - 17s 349us/sample - loss: 1.8745 - accuracy: 0.5877 - val_loss: 1.8298 - val_accuracy: 0.6297\n",
      "Epoch 3/50\n",
      "50000/50000 [==============================] - 18s 352us/sample - loss: 1.8200 - accuracy: 0.6419 - val_loss: 1.7878 - val_accuracy: 0.6744\n",
      "Epoch 4/50\n",
      "50000/50000 [==============================] - 20s 393us/sample - loss: 1.7897 - accuracy: 0.6713 - val_loss: 1.7521 - val_accuracy: 0.7087\n",
      "Epoch 5/50\n",
      "50000/50000 [==============================] - 24s 478us/sample - loss: 1.7677 - accuracy: 0.6931 - val_loss: 1.7635 - val_accuracy: 0.6965\n",
      "Epoch 6/50\n",
      "50000/50000 [==============================] - 30s 609us/sample - loss: 1.7502 - accuracy: 0.7098 - val_loss: 1.7221 - val_accuracy: 0.7382\n",
      "Epoch 7/50\n",
      "50000/50000 [==============================] - 66s 1ms/sample - loss: 1.7360 - accuracy: 0.7251 - val_loss: 1.9701 - val_accuracy: 0.4877\n",
      "Epoch 8/50\n",
      "50000/50000 [==============================] - 66s 1ms/sample - loss: 1.7275 - accuracy: 0.7336 - val_loss: 1.7035 - val_accuracy: 0.7558\n",
      "Epoch 9/50\n",
      "50000/50000 [==============================] - 18s 357us/sample - loss: 1.7172 - accuracy: 0.7432 - val_loss: 1.7145 - val_accuracy: 0.7454\n",
      "Epoch 10/50\n",
      "50000/50000 [==============================] - 18s 350us/sample - loss: 1.7107 - accuracy: 0.7496 - val_loss: 1.6999 - val_accuracy: 0.7617\n",
      "Epoch 11/50\n",
      "50000/50000 [==============================] - 18s 354us/sample - loss: 1.7047 - accuracy: 0.7558 - val_loss: 1.7053 - val_accuracy: 0.7555\n",
      "Epoch 12/50\n",
      "50000/50000 [==============================] - 18s 360us/sample - loss: 1.7002 - accuracy: 0.7597 - val_loss: 1.6777 - val_accuracy: 0.7832\n",
      "Epoch 13/50\n",
      "50000/50000 [==============================] - 19s 370us/sample - loss: 1.6927 - accuracy: 0.7675 - val_loss: 1.6953 - val_accuracy: 0.7644\n",
      "Epoch 14/50\n",
      "50000/50000 [==============================] - 20s 405us/sample - loss: 1.6887 - accuracy: 0.7721 - val_loss: 1.6720 - val_accuracy: 0.7887\n",
      "Epoch 15/50\n",
      "50000/50000 [==============================] - 47s 934us/sample - loss: 1.6820 - accuracy: 0.7782 - val_loss: 1.6725 - val_accuracy: 0.7877\n",
      "Epoch 16/50\n",
      "50000/50000 [==============================] - 37s 746us/sample - loss: 1.6773 - accuracy: 0.7829 - val_loss: 1.6718 - val_accuracy: 0.7885\n",
      "Epoch 17/50\n",
      "50000/50000 [==============================] - 55s 1ms/sample - loss: 1.6746 - accuracy: 0.7859 - val_loss: 1.6594 - val_accuracy: 0.8014\n",
      "Epoch 18/50\n",
      "50000/50000 [==============================] - 45s 909us/sample - loss: 1.6716 - accuracy: 0.7883 - val_loss: 1.6804 - val_accuracy: 0.7796\n",
      "Epoch 19/50\n",
      "50000/50000 [==============================] - 53s 1ms/sample - loss: 1.6714 - accuracy: 0.7883 - val_loss: 1.6536 - val_accuracy: 0.8068\n",
      "Epoch 20/50\n",
      "50000/50000 [==============================] - 49s 982us/sample - loss: 1.6642 - accuracy: 0.7966 - val_loss: 1.6538 - val_accuracy: 0.8063\n",
      "Epoch 21/50\n",
      "50000/50000 [==============================] - 42s 845us/sample - loss: 1.6624 - accuracy: 0.7976 - val_loss: 1.6513 - val_accuracy: 0.8072\n",
      "Epoch 22/50\n",
      "50000/50000 [==============================] - 46s 927us/sample - loss: 1.6619 - accuracy: 0.7980 - val_loss: 1.6676 - val_accuracy: 0.7929\n",
      "Epoch 23/50\n",
      "50000/50000 [==============================] - 34s 683us/sample - loss: 1.6556 - accuracy: 0.8050 - val_loss: 1.6457 - val_accuracy: 0.8146\n",
      "Epoch 24/50\n",
      "50000/50000 [==============================] - 35s 697us/sample - loss: 1.6547 - accuracy: 0.8054 - val_loss: 1.6567 - val_accuracy: 0.8034\n",
      "Epoch 25/50\n",
      "50000/50000 [==============================] - 33s 652us/sample - loss: 1.6512 - accuracy: 0.8098 - val_loss: 1.6487 - val_accuracy: 0.8119\n",
      "Epoch 26/50\n",
      "50000/50000 [==============================] - 35s 707us/sample - loss: 1.6530 - accuracy: 0.8077 - val_loss: 1.6441 - val_accuracy: 0.8156\n",
      "Epoch 27/50\n",
      "50000/50000 [==============================] - 43s 856us/sample - loss: 1.6485 - accuracy: 0.8114 - val_loss: 1.6551 - val_accuracy: 0.8048\n",
      "Epoch 28/50\n",
      "50000/50000 [==============================] - 52s 1ms/sample - loss: 1.6485 - accuracy: 0.8116 - val_loss: 1.6442 - val_accuracy: 0.8160\n",
      "Epoch 29/50\n",
      "50000/50000 [==============================] - 47s 940us/sample - loss: 1.6462 - accuracy: 0.8142 - val_loss: 1.6516 - val_accuracy: 0.8097\n",
      "Epoch 30/50\n",
      "50000/50000 [==============================] - 35s 708us/sample - loss: 1.6451 - accuracy: 0.8154 - val_loss: 1.6478 - val_accuracy: 0.8124\n",
      "Epoch 31/50\n",
      "50000/50000 [==============================] - 39s 786us/sample - loss: 1.6415 - accuracy: 0.8187 - val_loss: 1.6473 - val_accuracy: 0.8120\n",
      "Epoch 32/50\n",
      "50000/50000 [==============================] - 34s 682us/sample - loss: 1.6412 - accuracy: 0.8193 - val_loss: 1.6532 - val_accuracy: 0.8065\n",
      "Epoch 33/50\n",
      "50000/50000 [==============================] - 35s 695us/sample - loss: 1.6378 - accuracy: 0.8223 - val_loss: 1.6431 - val_accuracy: 0.8173\n",
      "Epoch 34/50\n",
      "50000/50000 [==============================] - 52s 1ms/sample - loss: 1.6389 - accuracy: 0.8214 - val_loss: 1.6304 - val_accuracy: 0.8297\n",
      "Epoch 35/50\n",
      "50000/50000 [==============================] - 34s 689us/sample - loss: 1.6353 - accuracy: 0.8251 - val_loss: 1.6387 - val_accuracy: 0.8210\n",
      "Epoch 36/50\n",
      "50000/50000 [==============================] - 22s 439us/sample - loss: 1.6361 - accuracy: 0.8240 - val_loss: 1.6386 - val_accuracy: 0.8219\n",
      "Epoch 37/50\n",
      "50000/50000 [==============================] - 31s 611us/sample - loss: 1.6345 - accuracy: 0.8257 - val_loss: 1.6515 - val_accuracy: 0.8081\n",
      "Epoch 38/50\n",
      "50000/50000 [==============================] - 27s 546us/sample - loss: 1.6360 - accuracy: 0.8244 - val_loss: 1.6367 - val_accuracy: 0.8231\n",
      "Epoch 39/50\n",
      "50000/50000 [==============================] - 22s 449us/sample - loss: 1.6316 - accuracy: 0.8289 - val_loss: 1.6391 - val_accuracy: 0.8216\n",
      "Epoch 40/50\n",
      "50000/50000 [==============================] - 22s 447us/sample - loss: 1.6302 - accuracy: 0.8305 - val_loss: 1.6244 - val_accuracy: 0.8355\n",
      "Epoch 41/50\n",
      "50000/50000 [==============================] - 24s 480us/sample - loss: 1.6316 - accuracy: 0.8288 - val_loss: 1.6389 - val_accuracy: 0.8223\n",
      "Epoch 42/50\n",
      "50000/50000 [==============================] - 23s 461us/sample - loss: 1.6270 - accuracy: 0.8332 - val_loss: 1.6265 - val_accuracy: 0.8339\n",
      "Epoch 43/50\n",
      "50000/50000 [==============================] - 23s 460us/sample - loss: 1.6249 - accuracy: 0.8353 - val_loss: 1.6301 - val_accuracy: 0.8303\n",
      "Epoch 44/50\n",
      "50000/50000 [==============================] - 26s 519us/sample - loss: 1.6249 - accuracy: 0.8356 - val_loss: 1.6374 - val_accuracy: 0.8230\n",
      "Epoch 45/50\n",
      "50000/50000 [==============================] - 25s 499us/sample - loss: 1.6247 - accuracy: 0.8356 - val_loss: 1.6796 - val_accuracy: 0.7796\n",
      "Epoch 46/50\n",
      "50000/50000 [==============================] - 25s 499us/sample - loss: 1.6246 - accuracy: 0.8356 - val_loss: 1.6260 - val_accuracy: 0.8340\n",
      "Epoch 47/50\n",
      "50000/50000 [==============================] - 25s 497us/sample - loss: 1.6241 - accuracy: 0.8365 - val_loss: 1.6310 - val_accuracy: 0.8294\n",
      "Epoch 48/50\n",
      "50000/50000 [==============================] - 25s 498us/sample - loss: 1.6222 - accuracy: 0.8377 - val_loss: 1.6292 - val_accuracy: 0.8306\n",
      "Epoch 49/50\n",
      "50000/50000 [==============================] - 37s 733us/sample - loss: 1.6222 - accuracy: 0.8380 - val_loss: 1.6309 - val_accuracy: 0.8301\n",
      "Epoch 50/50\n",
      "50000/50000 [==============================] - 26s 525us/sample - loss: 1.6226 - accuracy: 0.8381 - val_loss: 1.6367 - val_accuracy: 0.8241\n"
     ]
    }
   ],
   "source": [
    "model.train()"
   ]
  },
  {
   "cell_type": "code",
   "execution_count": 7,
   "metadata": {},
   "outputs": [
    {
     "name": "stdout",
     "output_type": "stream",
     "text": [
      "10000/10000 - 1s - loss: 1.6367 - accuracy: 0.8241\n",
      "0.8241\n"
     ]
    },
    {
     "data": {
      "text/plain": [
       "0.8241"
      ]
     },
     "execution_count": 7,
     "metadata": {},
     "output_type": "execute_result"
    }
   ],
   "source": [
    "model.model_evaluate()"
   ]
  },
  {
   "cell_type": "code",
   "execution_count": 8,
   "metadata": {},
   "outputs": [
    {
     "name": "stdout",
     "output_type": "stream",
     "text": [
      "WARNING:tensorflow:From C:\\Users\\reuel\\anaconda3\\envs\\tf_gpu\\lib\\site-packages\\tensorflow_core\\python\\ops\\resource_variable_ops.py:1786: calling BaseResourceVariable.__init__ (from tensorflow.python.ops.resource_variable_ops) with constraint is deprecated and will be removed in a future version.\n",
      "Instructions for updating:\n",
      "If using Keras pass *_constraint arguments to layers.\n",
      "INFO:tensorflow:Assets written to: model\\assets\n"
     ]
    }
   ],
   "source": [
    "model.model_save()"
   ]
  },
  {
   "cell_type": "code",
   "execution_count": 3,
   "metadata": {},
   "outputs": [],
   "source": [
    "model.model_load()"
   ]
  },
  {
   "cell_type": "code",
   "execution_count": 4,
   "metadata": {},
   "outputs": [
    {
     "name": "stdout",
     "output_type": "stream",
     "text": [
      "10000/10000 - 6s - loss: 1.6367 - accuracy: 0.8241\n",
      "0.8241\n"
     ]
    },
    {
     "data": {
      "text/plain": [
       "0.8241"
      ]
     },
     "execution_count": 4,
     "metadata": {},
     "output_type": "execute_result"
    }
   ],
   "source": [
    "model.model_evaluate()"
   ]
  },
  {
   "cell_type": "code",
   "execution_count": 5,
   "metadata": {},
   "outputs": [
    {
     "ename": "AttributeError",
     "evalue": "'CNN' object has no attribute 'history'",
     "output_type": "error",
     "traceback": [
      "\u001b[1;31m---------------------------------------------------------------------------\u001b[0m",
      "\u001b[1;31mAttributeError\u001b[0m                            Traceback (most recent call last)",
      "\u001b[1;32m<ipython-input-5-61d275d97efc>\u001b[0m in \u001b[0;36m<module>\u001b[1;34m\u001b[0m\n\u001b[1;32m----> 1\u001b[1;33m \u001b[0mmodel\u001b[0m\u001b[1;33m.\u001b[0m\u001b[0mhistory\u001b[0m\u001b[1;33m.\u001b[0m\u001b[0mhistory\u001b[0m\u001b[1;33m(\u001b[0m\u001b[1;33m[\u001b[0m\u001b[1;34m'loss'\u001b[0m\u001b[1;33m]\u001b[0m\u001b[1;33m)\u001b[0m\u001b[1;33m\u001b[0m\u001b[1;33m\u001b[0m\u001b[0m\n\u001b[0m",
      "\u001b[1;31mAttributeError\u001b[0m: 'CNN' object has no attribute 'history'"
     ]
    }
   ],
   "source": [
    "model.history.history(['loss'])"
   ]
  },
  {
   "cell_type": "code",
   "execution_count": null,
   "metadata": {},
   "outputs": [],
   "source": []
  }
 ],
 "metadata": {
  "kernelspec": {
   "display_name": "Python 3",
   "language": "python",
   "name": "python3"
  },
  "language_info": {
   "codemirror_mode": {
    "name": "ipython",
    "version": 3
   },
   "file_extension": ".py",
   "mimetype": "text/x-python",
   "name": "python",
   "nbconvert_exporter": "python",
   "pygments_lexer": "ipython3",
   "version": "3.7.9"
  }
 },
 "nbformat": 4,
 "nbformat_minor": 4
}
